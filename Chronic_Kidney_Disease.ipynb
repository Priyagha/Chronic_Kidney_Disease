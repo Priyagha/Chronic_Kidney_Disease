{
 "cells": [
  {
   "cell_type": "markdown",
   "metadata": {},
   "source": [
    "# Chronic Kidney Disease Prediction using Statistical Models\n",
    "This project focuses on predicting the likelihood of chronic kidney disease in patients based on a comprehensive dataset containing 24 features. Chronic kidney disease is a serious medical condition, and early detection can significantly improve patient outcomes. The dataset comprises 400 data points, each labeled with the presence or absence of chronic kidney disease.\n",
    "The primary goal of this project is to develop robust machine learning models for classifying patients as either at risk or not at risk of chronic kidney disease. Two classification algorithms, logistic regression and support vector machine (SVM), were employed to achieve accurate predictions."
   ]
  },
  {
   "cell_type": "markdown",
   "metadata": {},
   "source": [
    "## Importing Libraries"
   ]
  },
  {
   "cell_type": "code",
   "execution_count": 1,
   "metadata": {},
   "outputs": [],
   "source": [
    "import numpy as np\n",
    "import pandas as pd\n",
    "import matplotlib.pyplot as plt\n",
    "import seaborn as sns\n",
    "#import statsmodels.api as sm\n",
    "from sklearn.datasets import make_classification\n",
    "from sklearn.linear_model import LogisticRegression\n",
    "from sklearn.metrics import ConfusionMatrixDisplay, accuracy_score #plot_confusion_matrix\n",
    "from sklearn.model_selection import train_test_split\n",
    "from sklearn.metrics import confusion_matrix\n",
    "from sklearn.model_selection import cross_val_score, ShuffleSplit\n",
    "from sklearn.preprocessing import StandardScaler\n",
    "from sklearn.model_selection import GridSearchCV\n",
    "from sklearn.svm import SVC"
   ]
  },
  {
   "cell_type": "markdown",
   "metadata": {},
   "source": [
    "## Loading Dataset"
   ]
  },
  {
   "cell_type": "code",
   "execution_count": 2,
   "metadata": {},
   "outputs": [
    {
     "data": {
      "text/html": [
       "<div>\n",
       "<style scoped>\n",
       "    .dataframe tbody tr th:only-of-type {\n",
       "        vertical-align: middle;\n",
       "    }\n",
       "\n",
       "    .dataframe tbody tr th {\n",
       "        vertical-align: top;\n",
       "    }\n",
       "\n",
       "    .dataframe thead th {\n",
       "        text-align: right;\n",
       "    }\n",
       "</style>\n",
       "<table border=\"1\" class=\"dataframe\">\n",
       "  <thead>\n",
       "    <tr style=\"text-align: right;\">\n",
       "      <th></th>\n",
       "      <th>age</th>\n",
       "      <th>blood pressure</th>\n",
       "      <th>specific gravity</th>\n",
       "      <th>albumin</th>\n",
       "      <th>Sugar</th>\n",
       "      <th>Pus Cell</th>\n",
       "      <th>Pus Cell clumps</th>\n",
       "      <th>Bacteria</th>\n",
       "      <th>Blood Glucose Random</th>\n",
       "      <th>Blood Urea</th>\n",
       "      <th>Serum Creatinine</th>\n",
       "      <th>Hemoglobin</th>\n",
       "      <th>Packed  Cell Volume</th>\n",
       "      <th>Hypertension</th>\n",
       "      <th>Diabetes Mellitus</th>\n",
       "      <th>Coronary Artery Disease</th>\n",
       "      <th>Appetite</th>\n",
       "      <th>Pedal Edema</th>\n",
       "      <th>Anemia</th>\n",
       "      <th>Class</th>\n",
       "    </tr>\n",
       "  </thead>\n",
       "  <tbody>\n",
       "    <tr>\n",
       "      <th>0</th>\n",
       "      <td>48</td>\n",
       "      <td>80</td>\n",
       "      <td>1.020</td>\n",
       "      <td>1</td>\n",
       "      <td>0</td>\n",
       "      <td>normal</td>\n",
       "      <td>notpresent</td>\n",
       "      <td>notpresent</td>\n",
       "      <td>121</td>\n",
       "      <td>36.0</td>\n",
       "      <td>1.2</td>\n",
       "      <td>15.4</td>\n",
       "      <td>44</td>\n",
       "      <td>yes</td>\n",
       "      <td>yes</td>\n",
       "      <td>no</td>\n",
       "      <td>good</td>\n",
       "      <td>no</td>\n",
       "      <td>no</td>\n",
       "      <td>ckd</td>\n",
       "    </tr>\n",
       "    <tr>\n",
       "      <th>1</th>\n",
       "      <td>62</td>\n",
       "      <td>80</td>\n",
       "      <td>1.010</td>\n",
       "      <td>2</td>\n",
       "      <td>3</td>\n",
       "      <td>normal</td>\n",
       "      <td>notpresent</td>\n",
       "      <td>notpresent</td>\n",
       "      <td>423</td>\n",
       "      <td>53.0</td>\n",
       "      <td>1.8</td>\n",
       "      <td>9.6</td>\n",
       "      <td>31</td>\n",
       "      <td>no</td>\n",
       "      <td>yes</td>\n",
       "      <td>no</td>\n",
       "      <td>poor</td>\n",
       "      <td>no</td>\n",
       "      <td>yes</td>\n",
       "      <td>ckd</td>\n",
       "    </tr>\n",
       "    <tr>\n",
       "      <th>2</th>\n",
       "      <td>48</td>\n",
       "      <td>70</td>\n",
       "      <td>1.005</td>\n",
       "      <td>4</td>\n",
       "      <td>0</td>\n",
       "      <td>abnormal</td>\n",
       "      <td>present</td>\n",
       "      <td>notpresent</td>\n",
       "      <td>117</td>\n",
       "      <td>56.0</td>\n",
       "      <td>3.8</td>\n",
       "      <td>11.2</td>\n",
       "      <td>32</td>\n",
       "      <td>yes</td>\n",
       "      <td>no</td>\n",
       "      <td>no</td>\n",
       "      <td>poor</td>\n",
       "      <td>yes</td>\n",
       "      <td>yes</td>\n",
       "      <td>ckd</td>\n",
       "    </tr>\n",
       "    <tr>\n",
       "      <th>3</th>\n",
       "      <td>51</td>\n",
       "      <td>80</td>\n",
       "      <td>1.010</td>\n",
       "      <td>2</td>\n",
       "      <td>0</td>\n",
       "      <td>normal</td>\n",
       "      <td>notpresent</td>\n",
       "      <td>notpresent</td>\n",
       "      <td>106</td>\n",
       "      <td>26.0</td>\n",
       "      <td>1.4</td>\n",
       "      <td>11.6</td>\n",
       "      <td>35</td>\n",
       "      <td>no</td>\n",
       "      <td>no</td>\n",
       "      <td>no</td>\n",
       "      <td>good</td>\n",
       "      <td>no</td>\n",
       "      <td>no</td>\n",
       "      <td>ckd</td>\n",
       "    </tr>\n",
       "    <tr>\n",
       "      <th>4</th>\n",
       "      <td>68</td>\n",
       "      <td>70</td>\n",
       "      <td>1.010</td>\n",
       "      <td>0</td>\n",
       "      <td>0</td>\n",
       "      <td>normal</td>\n",
       "      <td>notpresent</td>\n",
       "      <td>notpresent</td>\n",
       "      <td>100</td>\n",
       "      <td>54.0</td>\n",
       "      <td>24.0</td>\n",
       "      <td>12.4</td>\n",
       "      <td>36</td>\n",
       "      <td>no</td>\n",
       "      <td>no</td>\n",
       "      <td>no</td>\n",
       "      <td>good</td>\n",
       "      <td>no</td>\n",
       "      <td>no</td>\n",
       "      <td>ckd</td>\n",
       "    </tr>\n",
       "  </tbody>\n",
       "</table>\n",
       "</div>"
      ],
      "text/plain": [
       "   age  blood pressure  specific gravity  albumin  Sugar  Pus Cell  \\\n",
       "0   48              80             1.020        1      0    normal   \n",
       "1   62              80             1.010        2      3    normal   \n",
       "2   48              70             1.005        4      0  abnormal   \n",
       "3   51              80             1.010        2      0    normal   \n",
       "4   68              70             1.010        0      0    normal   \n",
       "\n",
       "  Pus Cell clumps    Bacteria  Blood Glucose Random  Blood Urea  \\\n",
       "0      notpresent  notpresent                   121        36.0   \n",
       "1      notpresent  notpresent                   423        53.0   \n",
       "2         present  notpresent                   117        56.0   \n",
       "3      notpresent  notpresent                   106        26.0   \n",
       "4      notpresent  notpresent                   100        54.0   \n",
       "\n",
       "   Serum Creatinine  Hemoglobin  Packed  Cell Volume Hypertension  \\\n",
       "0               1.2        15.4                   44          yes   \n",
       "1               1.8         9.6                   31           no   \n",
       "2               3.8        11.2                   32          yes   \n",
       "3               1.4        11.6                   35           no   \n",
       "4              24.0        12.4                   36           no   \n",
       "\n",
       "  Diabetes Mellitus Coronary Artery Disease Appetite Pedal Edema Anemia Class   \n",
       "0               yes                      no     good          no     no    ckd  \n",
       "1               yes                      no     poor          no    yes    ckd  \n",
       "2                no                      no     poor         yes    yes    ckd  \n",
       "3                no                      no     good          no     no    ckd  \n",
       "4                no                      no     good          no     no    ckd  "
      ]
     },
     "execution_count": 2,
     "metadata": {},
     "output_type": "execute_result"
    }
   ],
   "source": [
    "sheet_name = 'Complete_case'\n",
    "df = pd.read_excel('01_datasets.xlsx',sheet_name=sheet_name)\n",
    "df.head()"
   ]
  },
  {
   "cell_type": "markdown",
   "metadata": {},
   "source": [
    "## Exploratory Data Analysis"
   ]
  },
  {
   "cell_type": "markdown",
   "metadata": {},
   "source": [
    "### Class Distribution\n",
    "Looking at the class distribution of datapoints with chronic kidney disease and without is important because if a class imbalance is found one needs to handle it before building a statistical model."
   ]
  },
  {
   "cell_type": "code",
   "execution_count": 3,
   "metadata": {},
   "outputs": [
    {
     "data": {
      "text/plain": [
       "<Axes: xlabel='Class ', ylabel='count'>"
      ]
     },
     "execution_count": 3,
     "metadata": {},
     "output_type": "execute_result"
    },
    {
     "data": {
      "image/png": "[encoded data removed]",
      "text/plain": [
       "<Figure size 640x480 with 1 Axes>"
      ]
     },
     "metadata": {},
     "output_type": "display_data"
    }
   ],
   "source": [
    "sns.countplot(data = df, x = 'Class ')"
   ]
  },
  {
   "cell_type": "markdown",
   "metadata": {},
   "source": [
    "## Feature countplots\n",
    "Looking at count plots of diffetent features with hue as the class to see the distribution and findout if particular feature has more importance in determining the chances of a person having chronic kidney disease."
   ]
  },
  {
   "cell_type": "markdown",
   "metadata": {},
   "source": [
    "### Count plot of Appetite with hue as Class"
   ]
  },
  {
   "cell_type": "code",
   "execution_count": 4,
   "metadata": {},
   "outputs": [
    {
     "data": {
      "text/plain": [
       "<Axes: xlabel='Appetite', ylabel='count'>"
      ]
     },
     "execution_count": 4,
     "metadata": {},
     "output_type": "execute_result"
    },
    {
     "data": {
      "image/png": "[encoded data removed]",
      "text/plain": [
       "<Figure size 640x480 with 1 Axes>"
      ]
     },
     "metadata": {},
     "output_type": "display_data"
    }
   ],
   "source": [
    "sns.countplot(data = df, x = 'Appetite', hue = 'Class ')"
   ]
  },
  {
   "cell_type": "markdown",
   "metadata": {},
   "source": [
    "### Count plot of Diabetes Mellitus with hue as Class"
   ]
  },
  {
   "cell_type": "code",
   "execution_count": 5,
   "metadata": {},
   "outputs": [
    {
     "data": {
      "text/plain": [
       "<Axes: xlabel='Diabetes Mellitus', ylabel='count'>"
      ]
     },
     "execution_count": 5,
     "metadata": {},
     "output_type": "execute_result"
    },
    {
     "data": {
      "image/png": "[encoded data removed]",
      "text/plain": [
       "<Figure size 640x480 with 1 Axes>"
      ]
     },
     "metadata": {},
     "output_type": "display_data"
    }
   ],
   "source": [
    "sns.countplot(data = df, x = 'Diabetes Mellitus', hue = 'Class ')"
   ]
  },
  {
   "cell_type": "markdown",
   "metadata": {},
   "source": [
    "### Count plot of Specific Gravity with hue as Class"
   ]
  },
  {
   "cell_type": "code",
   "execution_count": 6,
   "metadata": {},
   "outputs": [
    {
     "data": {
      "text/plain": [
       "<Axes: xlabel='specific gravity', ylabel='count'>"
      ]
     },
     "execution_count": 6,
     "metadata": {},
     "output_type": "execute_result"
    },
    {
     "data": {
      "image/png": "[encoded data removed]",
      "text/plain": [
       "<Figure size 640x480 with 1 Axes>"
      ]
     },
     "metadata": {},
     "output_type": "display_data"
    }
   ],
   "source": [
    "sns.countplot(data = df, x = 'specific gravity', hue = 'Class ')"
   ]
  },
  {
   "cell_type": "markdown",
   "metadata": {},
   "source": [
    "### Checking data type of each Feature"
   ]
  },
  {
   "cell_type": "code",
   "execution_count": 7,
   "metadata": {},
   "outputs": [
    {
     "name": "stdout",
     "output_type": "stream",
     "text": [
      "age : int64\n",
      "blood pressure : int64\n",
      "specific gravity : float64\n",
      "albumin : int64\n",
      "Sugar : int64\n",
      "Pus Cell : object\n",
      "Pus Cell clumps : object\n",
      "Bacteria : object\n",
      "Blood Glucose Random : int64\n",
      "Blood Urea : float64\n",
      "Serum Creatinine : float64\n",
      "Hemoglobin : float64\n",
      "Packed  Cell Volume : int64\n",
      "Hypertension : object\n",
      "Diabetes Mellitus : object\n",
      "Coronary Artery Disease : object\n",
      "Appetite : object\n",
      "Pedal Edema : object\n",
      "Anemia : object\n",
      "Class  : object\n"
     ]
    }
   ],
   "source": [
    "feature_type = {}\n",
    "for columns in df.columns:\n",
    "    print(columns, ':', df[columns].dtype)\n",
    "    feature_type[columns] = str(df[columns].dtype)"
   ]
  },
  {
   "cell_type": "markdown",
   "metadata": {},
   "source": [
    "## Pre Processing"
   ]
  },
  {
   "cell_type": "markdown",
   "metadata": {},
   "source": [
    "### Converting categorical features to dummy variables\n",
    "This is done to facilitate numerical representation which  ensuring compatibility with machine learning algorithms that require numeric input."
   ]
  },
  {
   "cell_type": "code",
   "execution_count": 8,
   "metadata": {},
   "outputs": [],
   "source": [
    "other_cat_features = ['specific gravity', 'albumin', 'Sugar', 'Red Blood Cells(nominal)']"
   ]
  },
  {
   "cell_type": "code",
   "execution_count": 9,
   "metadata": {},
   "outputs": [],
   "source": [
    "#Dropping original categorical columns\n",
    "for feature in feature_type:\n",
    "    if (feature_type[feature] == 'object' and feature != 'Class ') or (feature in other_cat_features):\n",
    "        dummies = pd.get_dummies(df[feature])\n",
    "        for columns in dummies.columns:\n",
    "            df[f'{feature}_{columns}'] = dummies[columns]\n",
    "        \n",
    "        df.drop(columns=[feature], inplace=True)"
   ]
  },
  {
   "cell_type": "markdown",
   "metadata": {},
   "source": [
    "### Mapping class to Binary(1 and 0) \n",
    "Mapping the output class to binary as it is a binary classification problem."
   ]
  },
  {
   "cell_type": "code",
   "execution_count": 10,
   "metadata": {},
   "outputs": [
    {
     "data": {
      "text/plain": [
       "Class \n",
       "ckd       124\n",
       "notckd    121\n",
       "Name: count, dtype: int64"
      ]
     },
     "execution_count": 10,
     "metadata": {},
     "output_type": "execute_result"
    }
   ],
   "source": [
    "df['Class '].value_counts()"
   ]
  },
  {
   "cell_type": "code",
   "execution_count": 11,
   "metadata": {},
   "outputs": [
    {
     "data": {
      "text/plain": [
       "Class \n",
       "1    124\n",
       "0    121\n",
       "Name: count, dtype: int64"
      ]
     },
     "execution_count": 11,
     "metadata": {},
     "output_type": "execute_result"
    }
   ],
   "source": [
    "df['Class '] = df['Class '].map(lambda x: 1 if x == 'ckd' else 0)\n",
    "df['Class '].value_counts()"
   ]
  },
  {
   "cell_type": "markdown",
   "metadata": {},
   "source": [
    "### Checking features if they have a clear seperation for CKD and non CKD patients\n",
    "#### Scatter Plot of Packed Cell Volume with Hue as Class"
   ]
  },
  {
   "cell_type": "code",
   "execution_count": 12,
   "metadata": {},
   "outputs": [
    {
     "data": {
      "text/plain": [
       "<Axes: xlabel='Packed  Cell Volume', ylabel='Class '>"
      ]
     },
     "execution_count": 12,
     "metadata": {},
     "output_type": "execute_result"
    },
    {
     "data": {
      "image/png": "[encoded data removed]",
      "text/plain": [
       "<Figure size 640x480 with 1 Axes>"
      ]
     },
     "metadata": {},
     "output_type": "display_data"
    }
   ],
   "source": [
    "sns.scatterplot(data = df, x = 'Packed  Cell Volume', y = 'Class ', hue = 'Class ')"
   ]
  },
  {
   "cell_type": "markdown",
   "metadata": {},
   "source": [
    "### Scatter Plot of Hemoglobin with Hue as Class "
   ]
  },
  {
   "cell_type": "code",
   "execution_count": 13,
   "metadata": {},
   "outputs": [
    {
     "data": {
      "text/plain": [
       "<Axes: xlabel='Hemoglobin', ylabel='Class '>"
      ]
     },
     "execution_count": 13,
     "metadata": {},
     "output_type": "execute_result"
    },
    {
     "data": {
      "image/png": "[encoded data removed]",
      "text/plain": [
       "<Figure size 640x480 with 1 Axes>"
      ]
     },
     "metadata": {},
     "output_type": "display_data"
    }
   ],
   "source": [
    "sns.scatterplot(data = df, x = 'Hemoglobin', y = 'Class ', hue = 'Class ', palette = ['#49958B', '#E0873F'])"
   ]
  },
  {
   "cell_type": "markdown",
   "metadata": {},
   "source": [
    "## Scaling Continuous Data\n",
    "Scaling numerical features to ensure consistent impact and better convergence in machine learning algorithms."
   ]
  },
  {
   "cell_type": "code",
   "execution_count": 14,
   "metadata": {},
   "outputs": [
    {
     "data": {
      "text/plain": [
       "{'age': StandardScaler(),\n",
       " 'blood pressure': StandardScaler(),\n",
       " 'Blood Glucose Random': StandardScaler(),\n",
       " 'Blood Urea': StandardScaler(),\n",
       " 'Serum Creatinine': StandardScaler(),\n",
       " 'Hemoglobin': StandardScaler(),\n",
       " 'Packed  Cell Volume': StandardScaler()}"
      ]
     },
     "execution_count": 14,
     "metadata": {},
     "output_type": "execute_result"
    }
   ],
   "source": [
    "feature_scalar = {}\n",
    "for feature in feature_type:\n",
    "    if feature_type[feature] in ['int64', 'float64'] and feature not in other_cat_features:\n",
    "        scalar = StandardScaler().fit(df[feature].values.reshape(-1,1))\n",
    "        df.loc[:,feature] = scalar.transform(df[feature].values.reshape(-1,1))\n",
    "\n",
    "        feature_scalar[feature] = scalar\n",
    "feature_scalar"
   ]
  },
  {
   "cell_type": "code",
   "execution_count": 15,
   "metadata": {},
   "outputs": [
    {
     "data": {
      "text/html": [
       "<div>\n",
       "<style scoped>\n",
       "    .dataframe tbody tr th:only-of-type {\n",
       "        vertical-align: middle;\n",
       "    }\n",
       "\n",
       "    .dataframe tbody tr th {\n",
       "        vertical-align: top;\n",
       "    }\n",
       "\n",
       "    .dataframe thead th {\n",
       "        text-align: right;\n",
       "    }\n",
       "</style>\n",
       "<table border=\"1\" class=\"dataframe\">\n",
       "  <thead>\n",
       "    <tr style=\"text-align: right;\">\n",
       "      <th></th>\n",
       "      <th>age</th>\n",
       "      <th>blood pressure</th>\n",
       "      <th>Blood Glucose Random</th>\n",
       "      <th>Blood Urea</th>\n",
       "      <th>Serum Creatinine</th>\n",
       "      <th>Hemoglobin</th>\n",
       "      <th>Packed  Cell Volume</th>\n",
       "      <th>Class</th>\n",
       "      <th>specific gravity_1.005</th>\n",
       "      <th>specific gravity_1.01</th>\n",
       "      <th>...</th>\n",
       "      <th>Diabetes Mellitus_no</th>\n",
       "      <th>Diabetes Mellitus_yes</th>\n",
       "      <th>Coronary Artery Disease_no</th>\n",
       "      <th>Coronary Artery Disease_yes</th>\n",
       "      <th>Appetite_good</th>\n",
       "      <th>Appetite_poor</th>\n",
       "      <th>Pedal Edema_no</th>\n",
       "      <th>Pedal Edema_yes</th>\n",
       "      <th>Anemia_no</th>\n",
       "      <th>Anemia_yes</th>\n",
       "    </tr>\n",
       "  </thead>\n",
       "  <tbody>\n",
       "    <tr>\n",
       "      <th>0</th>\n",
       "      <td>-0.237616</td>\n",
       "      <td>0.381919</td>\n",
       "      <td>-0.303475</td>\n",
       "      <td>-0.401425</td>\n",
       "      <td>-0.383738</td>\n",
       "      <td>0.887954</td>\n",
       "      <td>0.503524</td>\n",
       "      <td>1</td>\n",
       "      <td>False</td>\n",
       "      <td>False</td>\n",
       "      <td>...</td>\n",
       "      <td>False</td>\n",
       "      <td>True</td>\n",
       "      <td>True</td>\n",
       "      <td>False</td>\n",
       "      <td>True</td>\n",
       "      <td>False</td>\n",
       "      <td>True</td>\n",
       "      <td>False</td>\n",
       "      <td>True</td>\n",
       "      <td>False</td>\n",
       "    </tr>\n",
       "    <tr>\n",
       "      <th>1</th>\n",
       "      <td>0.641589</td>\n",
       "      <td>0.381919</td>\n",
       "      <td>3.513299</td>\n",
       "      <td>-0.014448</td>\n",
       "      <td>-0.200054</td>\n",
       "      <td>-1.196949</td>\n",
       "      <td>-0.988313</td>\n",
       "      <td>1</td>\n",
       "      <td>False</td>\n",
       "      <td>True</td>\n",
       "      <td>...</td>\n",
       "      <td>False</td>\n",
       "      <td>True</td>\n",
       "      <td>True</td>\n",
       "      <td>False</td>\n",
       "      <td>False</td>\n",
       "      <td>True</td>\n",
       "      <td>True</td>\n",
       "      <td>False</td>\n",
       "      <td>False</td>\n",
       "      <td>True</td>\n",
       "    </tr>\n",
       "    <tr>\n",
       "      <th>2</th>\n",
       "      <td>-0.237616</td>\n",
       "      <td>-0.484471</td>\n",
       "      <td>-0.354028</td>\n",
       "      <td>0.053842</td>\n",
       "      <td>0.412228</td>\n",
       "      <td>-0.621803</td>\n",
       "      <td>-0.873556</td>\n",
       "      <td>1</td>\n",
       "      <td>True</td>\n",
       "      <td>False</td>\n",
       "      <td>...</td>\n",
       "      <td>True</td>\n",
       "      <td>False</td>\n",
       "      <td>True</td>\n",
       "      <td>False</td>\n",
       "      <td>False</td>\n",
       "      <td>True</td>\n",
       "      <td>False</td>\n",
       "      <td>True</td>\n",
       "      <td>False</td>\n",
       "      <td>True</td>\n",
       "    </tr>\n",
       "    <tr>\n",
       "      <th>3</th>\n",
       "      <td>-0.049215</td>\n",
       "      <td>0.381919</td>\n",
       "      <td>-0.493049</td>\n",
       "      <td>-0.629059</td>\n",
       "      <td>-0.322510</td>\n",
       "      <td>-0.478016</td>\n",
       "      <td>-0.529286</td>\n",
       "      <td>1</td>\n",
       "      <td>False</td>\n",
       "      <td>True</td>\n",
       "      <td>...</td>\n",
       "      <td>True</td>\n",
       "      <td>False</td>\n",
       "      <td>True</td>\n",
       "      <td>False</td>\n",
       "      <td>True</td>\n",
       "      <td>False</td>\n",
       "      <td>True</td>\n",
       "      <td>False</td>\n",
       "      <td>True</td>\n",
       "      <td>False</td>\n",
       "    </tr>\n",
       "    <tr>\n",
       "      <th>4</th>\n",
       "      <td>1.018391</td>\n",
       "      <td>-0.484471</td>\n",
       "      <td>-0.568879</td>\n",
       "      <td>0.008316</td>\n",
       "      <td>6.596271</td>\n",
       "      <td>-0.190444</td>\n",
       "      <td>-0.414529</td>\n",
       "      <td>1</td>\n",
       "      <td>False</td>\n",
       "      <td>True</td>\n",
       "      <td>...</td>\n",
       "      <td>True</td>\n",
       "      <td>False</td>\n",
       "      <td>True</td>\n",
       "      <td>False</td>\n",
       "      <td>True</td>\n",
       "      <td>False</td>\n",
       "      <td>True</td>\n",
       "      <td>False</td>\n",
       "      <td>True</td>\n",
       "      <td>False</td>\n",
       "    </tr>\n",
       "    <tr>\n",
       "      <th>...</th>\n",
       "      <td>...</td>\n",
       "      <td>...</td>\n",
       "      <td>...</td>\n",
       "      <td>...</td>\n",
       "      <td>...</td>\n",
       "      <td>...</td>\n",
       "      <td>...</td>\n",
       "      <td>...</td>\n",
       "      <td>...</td>\n",
       "      <td>...</td>\n",
       "      <td>...</td>\n",
       "      <td>...</td>\n",
       "      <td>...</td>\n",
       "      <td>...</td>\n",
       "      <td>...</td>\n",
       "      <td>...</td>\n",
       "      <td>...</td>\n",
       "      <td>...</td>\n",
       "      <td>...</td>\n",
       "      <td>...</td>\n",
       "      <td>...</td>\n",
       "    </tr>\n",
       "    <tr>\n",
       "      <th>240</th>\n",
       "      <td>0.201986</td>\n",
       "      <td>0.381919</td>\n",
       "      <td>-0.063346</td>\n",
       "      <td>-0.105501</td>\n",
       "      <td>-0.598037</td>\n",
       "      <td>0.995794</td>\n",
       "      <td>0.847794</td>\n",
       "      <td>0</td>\n",
       "      <td>False</td>\n",
       "      <td>False</td>\n",
       "      <td>...</td>\n",
       "      <td>True</td>\n",
       "      <td>False</td>\n",
       "      <td>True</td>\n",
       "      <td>False</td>\n",
       "      <td>True</td>\n",
       "      <td>False</td>\n",
       "      <td>True</td>\n",
       "      <td>False</td>\n",
       "      <td>True</td>\n",
       "      <td>False</td>\n",
       "    </tr>\n",
       "    <tr>\n",
       "      <th>241</th>\n",
       "      <td>-0.614418</td>\n",
       "      <td>-0.484471</td>\n",
       "      <td>-0.884837</td>\n",
       "      <td>-0.515242</td>\n",
       "      <td>-0.383738</td>\n",
       "      <td>1.283367</td>\n",
       "      <td>1.651091</td>\n",
       "      <td>0</td>\n",
       "      <td>False</td>\n",
       "      <td>False</td>\n",
       "      <td>...</td>\n",
       "      <td>True</td>\n",
       "      <td>False</td>\n",
       "      <td>True</td>\n",
       "      <td>False</td>\n",
       "      <td>True</td>\n",
       "      <td>False</td>\n",
       "      <td>True</td>\n",
       "      <td>False</td>\n",
       "      <td>True</td>\n",
       "      <td>False</td>\n",
       "    </tr>\n",
       "    <tr>\n",
       "      <th>242</th>\n",
       "      <td>-2.498428</td>\n",
       "      <td>0.381919</td>\n",
       "      <td>-0.568879</td>\n",
       "      <td>-0.629059</td>\n",
       "      <td>-0.567423</td>\n",
       "      <td>1.031741</td>\n",
       "      <td>1.077308</td>\n",
       "      <td>0</td>\n",
       "      <td>False</td>\n",
       "      <td>False</td>\n",
       "      <td>...</td>\n",
       "      <td>True</td>\n",
       "      <td>False</td>\n",
       "      <td>True</td>\n",
       "      <td>False</td>\n",
       "      <td>True</td>\n",
       "      <td>False</td>\n",
       "      <td>True</td>\n",
       "      <td>False</td>\n",
       "      <td>True</td>\n",
       "      <td>False</td>\n",
       "    </tr>\n",
       "    <tr>\n",
       "      <th>243</th>\n",
       "      <td>-2.184426</td>\n",
       "      <td>-1.350861</td>\n",
       "      <td>-0.391943</td>\n",
       "      <td>-0.082738</td>\n",
       "      <td>-0.444966</td>\n",
       "      <td>0.456595</td>\n",
       "      <td>1.306821</td>\n",
       "      <td>0</td>\n",
       "      <td>False</td>\n",
       "      <td>False</td>\n",
       "      <td>...</td>\n",
       "      <td>True</td>\n",
       "      <td>False</td>\n",
       "      <td>True</td>\n",
       "      <td>False</td>\n",
       "      <td>True</td>\n",
       "      <td>False</td>\n",
       "      <td>True</td>\n",
       "      <td>False</td>\n",
       "      <td>True</td>\n",
       "      <td>False</td>\n",
       "    </tr>\n",
       "    <tr>\n",
       "      <th>244</th>\n",
       "      <td>0.390387</td>\n",
       "      <td>0.381919</td>\n",
       "      <td>-0.177091</td>\n",
       "      <td>-0.811166</td>\n",
       "      <td>-0.414352</td>\n",
       "      <td>1.031741</td>\n",
       "      <td>1.536334</td>\n",
       "      <td>0</td>\n",
       "      <td>False</td>\n",
       "      <td>False</td>\n",
       "      <td>...</td>\n",
       "      <td>True</td>\n",
       "      <td>False</td>\n",
       "      <td>True</td>\n",
       "      <td>False</td>\n",
       "      <td>True</td>\n",
       "      <td>False</td>\n",
       "      <td>True</td>\n",
       "      <td>False</td>\n",
       "      <td>True</td>\n",
       "      <td>False</td>\n",
       "    </tr>\n",
       "  </tbody>\n",
       "</table>\n",
       "<p>245 rows × 42 columns</p>\n",
       "</div>"
      ],
      "text/plain": [
       "          age  blood pressure  Blood Glucose Random  Blood Urea  \\\n",
       "0   -0.237616        0.381919             -0.303475   -0.401425   \n",
       "1    0.641589        0.381919              3.513299   -0.014448   \n",
       "2   -0.237616       -0.484471             -0.354028    0.053842   \n",
       "3   -0.049215        0.381919             -0.493049   -0.629059   \n",
       "4    1.018391       -0.484471             -0.568879    0.008316   \n",
       "..        ...             ...                   ...         ...   \n",
       "240  0.201986        0.381919             -0.063346   -0.105501   \n",
       "241 -0.614418       -0.484471             -0.884837   -0.515242   \n",
       "242 -2.498428        0.381919             -0.568879   -0.629059   \n",
       "243 -2.184426       -1.350861             -0.391943   -0.082738   \n",
       "244  0.390387        0.381919             -0.177091   -0.811166   \n",
       "\n",
       "     Serum Creatinine  Hemoglobin  Packed  Cell Volume  Class   \\\n",
       "0           -0.383738    0.887954             0.503524       1   \n",
       "1           -0.200054   -1.196949            -0.988313       1   \n",
       "2            0.412228   -0.621803            -0.873556       1   \n",
       "3           -0.322510   -0.478016            -0.529286       1   \n",
       "4            6.596271   -0.190444            -0.414529       1   \n",
       "..                ...         ...                  ...     ...   \n",
       "240         -0.598037    0.995794             0.847794       0   \n",
       "241         -0.383738    1.283367             1.651091       0   \n",
       "242         -0.567423    1.031741             1.077308       0   \n",
       "243         -0.444966    0.456595             1.306821       0   \n",
       "244         -0.414352    1.031741             1.536334       0   \n",
       "\n",
       "     specific gravity_1.005  specific gravity_1.01  ...  Diabetes Mellitus_no  \\\n",
       "0                     False                  False  ...                 False   \n",
       "1                     False                   True  ...                 False   \n",
       "2                      True                  False  ...                  True   \n",
       "3                     False                   True  ...                  True   \n",
       "4                     False                   True  ...                  True   \n",
       "..                      ...                    ...  ...                   ...   \n",
       "240                   False                  False  ...                  True   \n",
       "241                   False                  False  ...                  True   \n",
       "242                   False                  False  ...                  True   \n",
       "243                   False                  False  ...                  True   \n",
       "244                   False                  False  ...                  True   \n",
       "\n",
       "     Diabetes Mellitus_yes  Coronary Artery Disease_no  \\\n",
       "0                     True                        True   \n",
       "1                     True                        True   \n",
       "2                    False                        True   \n",
       "3                    False                        True   \n",
       "4                    False                        True   \n",
       "..                     ...                         ...   \n",
       "240                  False                        True   \n",
       "241                  False                        True   \n",
       "242                  False                        True   \n",
       "243                  False                        True   \n",
       "244                  False                        True   \n",
       "\n",
       "     Coronary Artery Disease_yes  Appetite_good  Appetite_poor  \\\n",
       "0                          False           True          False   \n",
       "1                          False          False           True   \n",
       "2                          False          False           True   \n",
       "3                          False           True          False   \n",
       "4                          False           True          False   \n",
       "..                           ...            ...            ...   \n",
       "240                        False           True          False   \n",
       "241                        False           True          False   \n",
       "242                        False           True          False   \n",
       "243                        False           True          False   \n",
       "244                        False           True          False   \n",
       "\n",
       "     Pedal Edema_no  Pedal Edema_yes  Anemia_no  Anemia_yes  \n",
       "0              True            False       True       False  \n",
       "1              True            False      False        True  \n",
       "2             False             True      False        True  \n",
       "3              True            False       True       False  \n",
       "4              True            False       True       False  \n",
       "..              ...              ...        ...         ...  \n",
       "240            True            False       True       False  \n",
       "241            True            False       True       False  \n",
       "242            True            False       True       False  \n",
       "243            True            False       True       False  \n",
       "244            True            False       True       False  \n",
       "\n",
       "[245 rows x 42 columns]"
      ]
     },
     "execution_count": 15,
     "metadata": {},
     "output_type": "execute_result"
    }
   ],
   "source": [
    "df"
   ]
  },
  {
   "cell_type": "markdown",
   "metadata": {},
   "source": [
    "## Splitting the dataset into test train split\n",
    "This is a necessary step as splitting the dataset into training and testing sets helps assess the model's generalization performance. The training set is used to train the model, and the testing set evaluates how well the model performs on unseen data, providing insights into its real-world applicability and potential overfitting."
   ]
  },
  {
   "cell_type": "code",
   "execution_count": 16,
   "metadata": {},
   "outputs": [],
   "source": [
    "property_variable = 'Class '\n",
    "X_all = df[[x for x in df.columns if x != property_variable]].values\n",
    "Y_all = df[property_variable].values.reshape(-1,1)\n",
    "X_train, X_test, Y_train, Y_test = train_test_split(X_all, Y_all, test_size = 0.2)"
   ]
  },
  {
   "cell_type": "markdown",
   "metadata": {},
   "source": [
    "# Generating Models\n",
    "## Logistic Regression\n",
    "### Cross Validation\n",
    "Cross-validation is crucial for obtaining a more robust estimate of the model's performance. It involves splitting the dataset into multiple folds, training the model on different subsets, and evaluating its performance. This helps ensure that the model's performance is consistent across various data partitions and reduces the risk of overfitting or underfitting to a specific training set."
   ]
  },
  {
   "cell_type": "code",
   "execution_count": 17,
   "metadata": {},
   "outputs": [],
   "source": [
    "from sklearn.model_selection import cross_val_score\n",
    "cv = ShuffleSplit(n_splits=10, test_size=0.15)\n",
    "scores = cross_val_score(LogisticRegression(max_iter=500, fit_intercept=False, C=1e9), X_train, Y_train.reshape(-1), cv = cv)"
   ]
  },
  {
   "cell_type": "code",
   "execution_count": 18,
   "metadata": {},
   "outputs": [
    {
     "name": "stdout",
     "output_type": "stream",
     "text": [
      "Mean: 0.9833333333333334\n",
      "Std: 0.01756820922315766\n"
     ]
    }
   ],
   "source": [
    "lr_df = pd.DataFrame({'iteration' : [f'iterration_{i}' for i in range(1, 11)], 'acurracy_score' : scores})\n",
    "print(f\"Mean: {lr_df['acurracy_score'].mean()}\")\n",
    "print(f\"Std: {lr_df['acurracy_score'].std()}\")"
   ]
  },
  {
   "cell_type": "markdown",
   "metadata": {},
   "source": [
    "### Final Logistic Regression Model"
   ]
  },
  {
   "cell_type": "code",
   "execution_count": 19,
   "metadata": {},
   "outputs": [],
   "source": [
    "log_reg = LogisticRegression(max_iter=500, fit_intercept=False, C=1e9).fit(X_train, Y_train.reshape(-1))"
   ]
  },
  {
   "cell_type": "code",
   "execution_count": 20,
   "metadata": {},
   "outputs": [],
   "source": [
    "y_pred = log_reg.predict(X_test)"
   ]
  },
  {
   "cell_type": "code",
   "execution_count": 21,
   "metadata": {},
   "outputs": [
    {
     "name": "stdout",
     "output_type": "stream",
     "text": [
      "Confusion Matrix : \n",
      " [[28  0]\n",
      " [ 2 19]]\n"
     ]
    },
    {
     "data": {
      "text/plain": [
       "<sklearn.metrics._plot.confusion_matrix.ConfusionMatrixDisplay at 0x2013b13ee60>"
      ]
     },
     "execution_count": 21,
     "metadata": {},
     "output_type": "execute_result"
    },
    {
     "data": {
      "image/png": "[encoded data removed]",
      "text/plain": [
       "<Figure size 640x480 with 2 Axes>"
      ]
     },
     "metadata": {},
     "output_type": "display_data"
    }
   ],
   "source": [
    "cm = confusion_matrix(Y_test, y_pred) \n",
    "print (\"Confusion Matrix : \\n\", cm) \n",
    "\n",
    "disp = ConfusionMatrixDisplay(confusion_matrix=cm)\n",
    "disp.plot()"
   ]
  },
  {
   "cell_type": "markdown",
   "metadata": {},
   "source": [
    "## Support Vector Machine\n",
    "### Cross Validation and Hypertuning to find most Optimal Parameters\n",
    "SVM models have hyperparameters C, kernel type and gamma that significantly impact their performance. Tuning these hyperparameters involves searching for the optimal combination that maximizes the model's accuracy, precision, or other relevant metrics. Hyperparameter tuning helps fine-tune the model, improving its ability to generalize to unseen data and enhancing overall predictive performance."
   ]
  },
  {
   "cell_type": "code",
   "execution_count": 22,
   "metadata": {},
   "outputs": [],
   "source": [
    "param_grid = [\n",
    "    {'C' : [0.5,1,10,100],\n",
    "    'gamma': ['scale', 1, 0.1, 0.01, 0.001, 0.0001],\n",
    "    'kernel': ['linear', 'poly', 'rbf', 'sigmoid']}\n",
    "]\n",
    "\n",
    "cv = ShuffleSplit(n_splits=20, test_size=0.15)"
   ]
  },
  {
   "cell_type": "code",
   "execution_count": 23,
   "metadata": {},
   "outputs": [
    {
     "data": {
      "text/plain": [
       "(196,)"
      ]
     },
     "execution_count": 23,
     "metadata": {},
     "output_type": "execute_result"
    }
   ],
   "source": [
    "Y_train.reshape(-1).shape"
   ]
  },
  {
   "cell_type": "code",
   "execution_count": 24,
   "metadata": {},
   "outputs": [
    {
     "name": "stdout",
     "output_type": "stream",
     "text": [
      "Fitting 20 folds for each of 96 candidates, totalling 1920 fits\n",
      "GridSearchCV(cv=ShuffleSplit(n_splits=20, random_state=None, test_size=0.15, train_size=None),\n",
      "             estimator=SVC(),\n",
      "             param_grid=[{'C': [0.5, 1, 10, 100],\n",
      "                          'gamma': ['scale', 1, 0.1, 0.01, 0.001, 0.0001],\n",
      "                          'kernel': ['linear', 'poly', 'rbf', 'sigmoid']}],\n",
      "             verbose=1)\n"
     ]
    }
   ],
   "source": [
    "optimal_params = GridSearchCV(SVC(), param_grid, cv = cv, verbose =1)\n",
    "print(optimal_params.fit(X_train,Y_train.reshape(-1)))"
   ]
  },
  {
   "cell_type": "code",
   "execution_count": 25,
   "metadata": {},
   "outputs": [
    {
     "data": {
      "text/html": [
       "<div>\n",
       "<style scoped>\n",
       "    .dataframe tbody tr th:only-of-type {\n",
       "        vertical-align: middle;\n",
       "    }\n",
       "\n",
       "    .dataframe tbody tr th {\n",
       "        vertical-align: top;\n",
       "    }\n",
       "\n",
       "    .dataframe thead th {\n",
       "        text-align: right;\n",
       "    }\n",
       "</style>\n",
       "<table border=\"1\" class=\"dataframe\">\n",
       "  <thead>\n",
       "    <tr style=\"text-align: right;\">\n",
       "      <th></th>\n",
       "      <th>params</th>\n",
       "      <th>mean_test_score</th>\n",
       "      <th>std_test_score</th>\n",
       "      <th>rank_test_score</th>\n",
       "    </tr>\n",
       "  </thead>\n",
       "  <tbody>\n",
       "    <tr>\n",
       "      <th>34</th>\n",
       "      <td>{'C': 1, 'gamma': 0.1, 'kernel': 'rbf'}</td>\n",
       "      <td>0.983333</td>\n",
       "      <td>0.019720</td>\n",
       "      <td>1</td>\n",
       "    </tr>\n",
       "    <tr>\n",
       "      <th>58</th>\n",
       "      <td>{'C': 10, 'gamma': 0.1, 'kernel': 'rbf'}</td>\n",
       "      <td>0.983333</td>\n",
       "      <td>0.019720</td>\n",
       "      <td>1</td>\n",
       "    </tr>\n",
       "    <tr>\n",
       "      <th>26</th>\n",
       "      <td>{'C': 1, 'gamma': 'scale', 'kernel': 'rbf'}</td>\n",
       "      <td>0.983333</td>\n",
       "      <td>0.019720</td>\n",
       "      <td>1</td>\n",
       "    </tr>\n",
       "    <tr>\n",
       "      <th>82</th>\n",
       "      <td>{'C': 100, 'gamma': 0.1, 'kernel': 'rbf'}</td>\n",
       "      <td>0.983333</td>\n",
       "      <td>0.019720</td>\n",
       "      <td>1</td>\n",
       "    </tr>\n",
       "    <tr>\n",
       "      <th>74</th>\n",
       "      <td>{'C': 100, 'gamma': 'scale', 'kernel': 'rbf'}</td>\n",
       "      <td>0.983333</td>\n",
       "      <td>0.019720</td>\n",
       "      <td>1</td>\n",
       "    </tr>\n",
       "    <tr>\n",
       "      <th>...</th>\n",
       "      <td>...</td>\n",
       "      <td>...</td>\n",
       "      <td>...</td>\n",
       "      <td>...</td>\n",
       "    </tr>\n",
       "    <tr>\n",
       "      <th>69</th>\n",
       "      <td>{'C': 10, 'gamma': 0.0001, 'kernel': 'poly'}</td>\n",
       "      <td>0.503333</td>\n",
       "      <td>0.051532</td>\n",
       "      <td>82</td>\n",
       "    </tr>\n",
       "    <tr>\n",
       "      <th>45</th>\n",
       "      <td>{'C': 1, 'gamma': 0.0001, 'kernel': 'poly'}</td>\n",
       "      <td>0.503333</td>\n",
       "      <td>0.051532</td>\n",
       "      <td>82</td>\n",
       "    </tr>\n",
       "    <tr>\n",
       "      <th>46</th>\n",
       "      <td>{'C': 1, 'gamma': 0.0001, 'kernel': 'rbf'}</td>\n",
       "      <td>0.503333</td>\n",
       "      <td>0.051532</td>\n",
       "      <td>82</td>\n",
       "    </tr>\n",
       "    <tr>\n",
       "      <th>19</th>\n",
       "      <td>{'C': 0.5, 'gamma': 0.001, 'kernel': 'sigmoid'}</td>\n",
       "      <td>0.503333</td>\n",
       "      <td>0.051532</td>\n",
       "      <td>82</td>\n",
       "    </tr>\n",
       "    <tr>\n",
       "      <th>47</th>\n",
       "      <td>{'C': 1, 'gamma': 0.0001, 'kernel': 'sigmoid'}</td>\n",
       "      <td>0.503333</td>\n",
       "      <td>0.051532</td>\n",
       "      <td>82</td>\n",
       "    </tr>\n",
       "  </tbody>\n",
       "</table>\n",
       "<p>96 rows × 4 columns</p>\n",
       "</div>"
      ],
      "text/plain": [
       "                                             params  mean_test_score  \\\n",
       "34          {'C': 1, 'gamma': 0.1, 'kernel': 'rbf'}         0.983333   \n",
       "58         {'C': 10, 'gamma': 0.1, 'kernel': 'rbf'}         0.983333   \n",
       "26      {'C': 1, 'gamma': 'scale', 'kernel': 'rbf'}         0.983333   \n",
       "82        {'C': 100, 'gamma': 0.1, 'kernel': 'rbf'}         0.983333   \n",
       "74    {'C': 100, 'gamma': 'scale', 'kernel': 'rbf'}         0.983333   \n",
       "..                                              ...              ...   \n",
       "69     {'C': 10, 'gamma': 0.0001, 'kernel': 'poly'}         0.503333   \n",
       "45      {'C': 1, 'gamma': 0.0001, 'kernel': 'poly'}         0.503333   \n",
       "46       {'C': 1, 'gamma': 0.0001, 'kernel': 'rbf'}         0.503333   \n",
       "19  {'C': 0.5, 'gamma': 0.001, 'kernel': 'sigmoid'}         0.503333   \n",
       "47   {'C': 1, 'gamma': 0.0001, 'kernel': 'sigmoid'}         0.503333   \n",
       "\n",
       "    std_test_score  rank_test_score  \n",
       "34        0.019720                1  \n",
       "58        0.019720                1  \n",
       "26        0.019720                1  \n",
       "82        0.019720                1  \n",
       "74        0.019720                1  \n",
       "..             ...              ...  \n",
       "69        0.051532               82  \n",
       "45        0.051532               82  \n",
       "46        0.051532               82  \n",
       "19        0.051532               82  \n",
       "47        0.051532               82  \n",
       "\n",
       "[96 rows x 4 columns]"
      ]
     },
     "execution_count": 25,
     "metadata": {},
     "output_type": "execute_result"
    }
   ],
   "source": [
    "parameters_HT_df = pd.DataFrame(optimal_params.cv_results_)[['params', 'mean_test_score', 'std_test_score', 'rank_test_score']].sort_values(by = 'rank_test_score')\n",
    "parameters_HT_df"
   ]
  },
  {
   "cell_type": "code",
   "execution_count": 26,
   "metadata": {},
   "outputs": [
    {
     "name": "stdout",
     "output_type": "stream",
     "text": [
      "{'C': 0.5, 'gamma': 0.1, 'kernel': 'rbf'}\n"
     ]
    }
   ],
   "source": [
    "best_params = optimal_params.best_params_\n",
    "print(best_params)"
   ]
  },
  {
   "cell_type": "markdown",
   "metadata": {},
   "source": [
    "### Training SVC on Optimal Parameters"
   ]
  },
  {
   "cell_type": "code",
   "execution_count": 27,
   "metadata": {},
   "outputs": [],
   "source": [
    "svc = SVC(C = best_params['C'], gamma=best_params['gamma'], kernel=best_params['kernel']).fit(X_train, Y_train.reshape(-1))"
   ]
  },
  {
   "cell_type": "code",
   "execution_count": 28,
   "metadata": {},
   "outputs": [],
   "source": [
    "y_pred = svc.predict(X_test)"
   ]
  },
  {
   "cell_type": "code",
   "execution_count": 29,
   "metadata": {},
   "outputs": [
    {
     "name": "stdout",
     "output_type": "stream",
     "text": [
      "Confusion Matrix : \n",
      " [[28  0]\n",
      " [ 0 21]]\n"
     ]
    },
    {
     "data": {
      "text/plain": [
       "<sklearn.metrics._plot.confusion_matrix.ConfusionMatrixDisplay at 0x20125dc6b30>"
      ]
     },
     "execution_count": 29,
     "metadata": {},
     "output_type": "execute_result"
    },
    {
     "data": {
      "image/png": "[encoded data removed]",
      "text/plain": [
       "<Figure size 640x480 with 2 Axes>"
      ]
     },
     "metadata": {},
     "output_type": "display_data"
    }
   ],
   "source": [
    "cm = confusion_matrix(Y_test, y_pred) \n",
    "print (\"Confusion Matrix : \\n\", cm) \n",
    "\n",
    "disp = ConfusionMatrixDisplay(confusion_matrix=cm)\n",
    "disp.plot()"
   ]
  },
  {
   "cell_type": "markdown",
   "metadata": {},
   "source": [
    "# Generating Feature Impertance"
   ]
  },
  {
   "cell_type": "code",
   "execution_count": 30,
   "metadata": {},
   "outputs": [
    {
     "name": "stdout",
     "output_type": "stream",
     "text": [
      "(1, 41)\n"
     ]
    }
   ],
   "source": [
    "print(log_reg.coef_.shape)\n",
    "feature_name = [x for x in df.columns if x != property_variable]\n",
    "feature_import = {'Features':feature_name, 'Coefficients':log_reg.coef_.reshape(-1)}\n",
    "feature_import = pd.DataFrame(feature_import)"
   ]
  },
  {
   "cell_type": "code",
   "execution_count": 31,
   "metadata": {},
   "outputs": [],
   "source": [
    "feature_import['importance_exp'] = feature_import['Coefficients'].map(lambda x : np.exp(abs(x)))\n",
    "feature_import['importance'] = feature_import['Coefficients'].map(lambda x : (abs(x)))"
   ]
  },
  {
   "cell_type": "code",
   "execution_count": 32,
   "metadata": {},
   "outputs": [],
   "source": [
    "feature_import.sort_values(by='importance', ascending=False, inplace=True)"
   ]
  },
  {
   "cell_type": "code",
   "execution_count": 33,
   "metadata": {},
   "outputs": [
    {
     "data": {
      "image/png": "[encoded data removed]",
      "text/plain": [
       "<Figure size 1400x800 with 1 Axes>"
      ]
     },
     "metadata": {},
     "output_type": "display_data"
    }
   ],
   "source": [
    "fig = plt.figure(figsize=(14,8))\n",
    "ax = fig.add_subplot()\n",
    "sns.set(font_scale=0.8)\n",
    "sns.barplot(data = feature_import, x='importance', y='Features', orient='hor', color='#E0873F', ax=ax)\n",
    "#ax.tick_params(axis='both', labelcolor='white')\n",
    "#ax.xaxis.label.set_color('white')\n",
    "#ax.yaxis.label.set_color('white')\n",
    "plt.savefig(f'Feature_Importance.png', dpi = 300, transparent = True)"
   ]
  },
  {
   "cell_type": "code",
   "execution_count": 34,
   "metadata": {},
   "outputs": [
    {
     "data": {
      "text/plain": [
       "<Axes: xlabel='importance_exp', ylabel='Features'>"
      ]
     },
     "execution_count": 34,
     "metadata": {},
     "output_type": "execute_result"
    },
    {
     "data": {
      "image/png": "[encoded data removed]",
      "text/plain": [
       "<Figure size 640x480 with 1 Axes>"
      ]
     },
     "metadata": {},
     "output_type": "display_data"
    }
   ],
   "source": [
    "sns.set(font_scale=0.5)\n",
    "sns.barplot(data = feature_import, x='importance_exp', y='Features', orient='hor')"
   ]
  },
  {
   "cell_type": "code",
   "execution_count": 35,
   "metadata": {},
   "outputs": [
    {
     "data": {
      "text/html": [
       "<div>\n",
       "<style scoped>\n",
       "    .dataframe tbody tr th:only-of-type {\n",
       "        vertical-align: middle;\n",
       "    }\n",
       "\n",
       "    .dataframe tbody tr th {\n",
       "        vertical-align: top;\n",
       "    }\n",
       "\n",
       "    .dataframe thead th {\n",
       "        text-align: right;\n",
       "    }\n",
       "</style>\n",
       "<table border=\"1\" class=\"dataframe\">\n",
       "  <thead>\n",
       "    <tr style=\"text-align: right;\">\n",
       "      <th></th>\n",
       "      <th>Features</th>\n",
       "      <th>Coefficients</th>\n",
       "      <th>importance_exp</th>\n",
       "      <th>importance</th>\n",
       "    </tr>\n",
       "  </thead>\n",
       "  <tbody>\n",
       "    <tr>\n",
       "      <th>8</th>\n",
       "      <td>specific gravity_1.01</td>\n",
       "      <td>18.703495</td>\n",
       "      <td>1.326859e+08</td>\n",
       "      <td>18.703495</td>\n",
       "    </tr>\n",
       "    <tr>\n",
       "      <th>5</th>\n",
       "      <td>Hemoglobin</td>\n",
       "      <td>-18.628833</td>\n",
       "      <td>1.231401e+08</td>\n",
       "      <td>18.628833</td>\n",
       "    </tr>\n",
       "    <tr>\n",
       "      <th>11</th>\n",
       "      <td>specific gravity_1.025</td>\n",
       "      <td>-13.357606</td>\n",
       "      <td>6.326076e+05</td>\n",
       "      <td>13.357606</td>\n",
       "    </tr>\n",
       "    <tr>\n",
       "      <th>4</th>\n",
       "      <td>Serum Creatinine</td>\n",
       "      <td>9.840531</td>\n",
       "      <td>1.877968e+04</td>\n",
       "      <td>9.840531</td>\n",
       "    </tr>\n",
       "    <tr>\n",
       "      <th>36</th>\n",
       "      <td>Appetite_poor</td>\n",
       "      <td>9.269048</td>\n",
       "      <td>1.060465e+04</td>\n",
       "      <td>9.269048</td>\n",
       "    </tr>\n",
       "    <tr>\n",
       "      <th>10</th>\n",
       "      <td>specific gravity_1.02</td>\n",
       "      <td>-7.337363</td>\n",
       "      <td>1.536655e+03</td>\n",
       "      <td>7.337363</td>\n",
       "    </tr>\n",
       "    <tr>\n",
       "      <th>2</th>\n",
       "      <td>Blood Glucose Random</td>\n",
       "      <td>6.762970</td>\n",
       "      <td>8.652081e+02</td>\n",
       "      <td>6.762970</td>\n",
       "    </tr>\n",
       "    <tr>\n",
       "      <th>9</th>\n",
       "      <td>specific gravity_1.015</td>\n",
       "      <td>6.324337</td>\n",
       "      <td>5.579879e+02</td>\n",
       "      <td>6.324337</td>\n",
       "    </tr>\n",
       "    <tr>\n",
       "      <th>32</th>\n",
       "      <td>Diabetes Mellitus_yes</td>\n",
       "      <td>5.923300</td>\n",
       "      <td>3.736427e+02</td>\n",
       "      <td>5.923300</td>\n",
       "    </tr>\n",
       "    <tr>\n",
       "      <th>30</th>\n",
       "      <td>Hypertension_yes</td>\n",
       "      <td>5.080315</td>\n",
       "      <td>1.608248e+02</td>\n",
       "      <td>5.080315</td>\n",
       "    </tr>\n",
       "    <tr>\n",
       "      <th>35</th>\n",
       "      <td>Appetite_good</td>\n",
       "      <td>-4.877137</td>\n",
       "      <td>1.312544e+02</td>\n",
       "      <td>4.877137</td>\n",
       "    </tr>\n",
       "    <tr>\n",
       "      <th>39</th>\n",
       "      <td>Anemia_no</td>\n",
       "      <td>4.259295</td>\n",
       "      <td>7.076010e+01</td>\n",
       "      <td>4.259295</td>\n",
       "    </tr>\n",
       "    <tr>\n",
       "      <th>33</th>\n",
       "      <td>Coronary Artery Disease_no</td>\n",
       "      <td>4.256420</td>\n",
       "      <td>7.055696e+01</td>\n",
       "      <td>4.256420</td>\n",
       "    </tr>\n",
       "    <tr>\n",
       "      <th>37</th>\n",
       "      <td>Pedal Edema_no</td>\n",
       "      <td>4.233312</td>\n",
       "      <td>6.894521e+01</td>\n",
       "      <td>4.233312</td>\n",
       "    </tr>\n",
       "    <tr>\n",
       "      <th>1</th>\n",
       "      <td>blood pressure</td>\n",
       "      <td>3.458536</td>\n",
       "      <td>3.177044e+01</td>\n",
       "      <td>3.458536</td>\n",
       "    </tr>\n",
       "    <tr>\n",
       "      <th>14</th>\n",
       "      <td>albumin_2</td>\n",
       "      <td>3.289912</td>\n",
       "      <td>2.684051e+01</td>\n",
       "      <td>3.289912</td>\n",
       "    </tr>\n",
       "    <tr>\n",
       "      <th>15</th>\n",
       "      <td>albumin_3</td>\n",
       "      <td>3.235930</td>\n",
       "      <td>2.543000e+01</td>\n",
       "      <td>3.235930</td>\n",
       "    </tr>\n",
       "    <tr>\n",
       "      <th>23</th>\n",
       "      <td>Pus Cell_abnormal</td>\n",
       "      <td>3.063399</td>\n",
       "      <td>2.140018e+01</td>\n",
       "      <td>3.063399</td>\n",
       "    </tr>\n",
       "    <tr>\n",
       "      <th>27</th>\n",
       "      <td>Bacteria_notpresent</td>\n",
       "      <td>2.804066</td>\n",
       "      <td>1.651165e+01</td>\n",
       "      <td>2.804066</td>\n",
       "    </tr>\n",
       "    <tr>\n",
       "      <th>18</th>\n",
       "      <td>Sugar_1</td>\n",
       "      <td>2.729556</td>\n",
       "      <td>1.532608e+01</td>\n",
       "      <td>2.729556</td>\n",
       "    </tr>\n",
       "    <tr>\n",
       "      <th>21</th>\n",
       "      <td>Sugar_4</td>\n",
       "      <td>2.673030</td>\n",
       "      <td>1.448379e+01</td>\n",
       "      <td>2.673030</td>\n",
       "    </tr>\n",
       "    <tr>\n",
       "      <th>3</th>\n",
       "      <td>Blood Urea</td>\n",
       "      <td>-2.663095</td>\n",
       "      <td>1.434061e+01</td>\n",
       "      <td>2.663095</td>\n",
       "    </tr>\n",
       "    <tr>\n",
       "      <th>6</th>\n",
       "      <td>Packed  Cell Volume</td>\n",
       "      <td>-2.602148</td>\n",
       "      <td>1.349268e+01</td>\n",
       "      <td>2.602148</td>\n",
       "    </tr>\n",
       "    <tr>\n",
       "      <th>12</th>\n",
       "      <td>albumin_0</td>\n",
       "      <td>-2.553375</td>\n",
       "      <td>1.285041e+01</td>\n",
       "      <td>2.553375</td>\n",
       "    </tr>\n",
       "    <tr>\n",
       "      <th>25</th>\n",
       "      <td>Pus Cell clumps_notpresent</td>\n",
       "      <td>2.224359</td>\n",
       "      <td>9.247555e+00</td>\n",
       "      <td>2.224359</td>\n",
       "    </tr>\n",
       "    <tr>\n",
       "      <th>26</th>\n",
       "      <td>Pus Cell clumps_present</td>\n",
       "      <td>2.167552</td>\n",
       "      <td>8.736867e+00</td>\n",
       "      <td>2.167552</td>\n",
       "    </tr>\n",
       "    <tr>\n",
       "      <th>28</th>\n",
       "      <td>Bacteria_present</td>\n",
       "      <td>1.587844</td>\n",
       "      <td>4.893190e+00</td>\n",
       "      <td>1.587844</td>\n",
       "    </tr>\n",
       "    <tr>\n",
       "      <th>31</th>\n",
       "      <td>Diabetes Mellitus_no</td>\n",
       "      <td>-1.531389</td>\n",
       "      <td>4.624596e+00</td>\n",
       "      <td>1.531389</td>\n",
       "    </tr>\n",
       "    <tr>\n",
       "      <th>24</th>\n",
       "      <td>Pus Cell_normal</td>\n",
       "      <td>1.328512</td>\n",
       "      <td>3.775420e+00</td>\n",
       "      <td>1.328512</td>\n",
       "    </tr>\n",
       "    <tr>\n",
       "      <th>17</th>\n",
       "      <td>Sugar_0</td>\n",
       "      <td>-1.016266</td>\n",
       "      <td>2.762858e+00</td>\n",
       "      <td>1.016266</td>\n",
       "    </tr>\n",
       "    <tr>\n",
       "      <th>0</th>\n",
       "      <td>age</td>\n",
       "      <td>-0.956601</td>\n",
       "      <td>2.602834e+00</td>\n",
       "      <td>0.956601</td>\n",
       "    </tr>\n",
       "    <tr>\n",
       "      <th>13</th>\n",
       "      <td>albumin_1</td>\n",
       "      <td>0.753642</td>\n",
       "      <td>2.124725e+00</td>\n",
       "      <td>0.753642</td>\n",
       "    </tr>\n",
       "    <tr>\n",
       "      <th>29</th>\n",
       "      <td>Hypertension_no</td>\n",
       "      <td>-0.688404</td>\n",
       "      <td>1.990537e+00</td>\n",
       "      <td>0.688404</td>\n",
       "    </tr>\n",
       "    <tr>\n",
       "      <th>16</th>\n",
       "      <td>albumin_4</td>\n",
       "      <td>-0.334198</td>\n",
       "      <td>1.396820e+00</td>\n",
       "      <td>0.334198</td>\n",
       "    </tr>\n",
       "    <tr>\n",
       "      <th>20</th>\n",
       "      <td>Sugar_3</td>\n",
       "      <td>0.281386</td>\n",
       "      <td>1.324964e+00</td>\n",
       "      <td>0.281386</td>\n",
       "    </tr>\n",
       "    <tr>\n",
       "      <th>19</th>\n",
       "      <td>Sugar_2</td>\n",
       "      <td>-0.270290</td>\n",
       "      <td>1.310344e+00</td>\n",
       "      <td>0.270290</td>\n",
       "    </tr>\n",
       "    <tr>\n",
       "      <th>38</th>\n",
       "      <td>Pedal Edema_yes</td>\n",
       "      <td>0.158599</td>\n",
       "      <td>1.171868e+00</td>\n",
       "      <td>0.158599</td>\n",
       "    </tr>\n",
       "    <tr>\n",
       "      <th>34</th>\n",
       "      <td>Coronary Artery Disease_yes</td>\n",
       "      <td>0.135491</td>\n",
       "      <td>1.145098e+00</td>\n",
       "      <td>0.135491</td>\n",
       "    </tr>\n",
       "    <tr>\n",
       "      <th>40</th>\n",
       "      <td>Anemia_yes</td>\n",
       "      <td>0.132616</td>\n",
       "      <td>1.141811e+00</td>\n",
       "      <td>0.132616</td>\n",
       "    </tr>\n",
       "    <tr>\n",
       "      <th>7</th>\n",
       "      <td>specific gravity_1.005</td>\n",
       "      <td>0.059047</td>\n",
       "      <td>1.060825e+00</td>\n",
       "      <td>0.059047</td>\n",
       "    </tr>\n",
       "    <tr>\n",
       "      <th>22</th>\n",
       "      <td>Sugar_5</td>\n",
       "      <td>-0.005505</td>\n",
       "      <td>1.005520e+00</td>\n",
       "      <td>0.005505</td>\n",
       "    </tr>\n",
       "  </tbody>\n",
       "</table>\n",
       "</div>"
      ],
      "text/plain": [
       "                       Features  Coefficients  importance_exp  importance\n",
       "8         specific gravity_1.01     18.703495    1.326859e+08   18.703495\n",
       "5                    Hemoglobin    -18.628833    1.231401e+08   18.628833\n",
       "11       specific gravity_1.025    -13.357606    6.326076e+05   13.357606\n",
       "4              Serum Creatinine      9.840531    1.877968e+04    9.840531\n",
       "36                Appetite_poor      9.269048    1.060465e+04    9.269048\n",
       "10        specific gravity_1.02     -7.337363    1.536655e+03    7.337363\n",
       "2          Blood Glucose Random      6.762970    8.652081e+02    6.762970\n",
       "9        specific gravity_1.015      6.324337    5.579879e+02    6.324337\n",
       "32        Diabetes Mellitus_yes      5.923300    3.736427e+02    5.923300\n",
       "30             Hypertension_yes      5.080315    1.608248e+02    5.080315\n",
       "35                Appetite_good     -4.877137    1.312544e+02    4.877137\n",
       "39                    Anemia_no      4.259295    7.076010e+01    4.259295\n",
       "33   Coronary Artery Disease_no      4.256420    7.055696e+01    4.256420\n",
       "37               Pedal Edema_no      4.233312    6.894521e+01    4.233312\n",
       "1                blood pressure      3.458536    3.177044e+01    3.458536\n",
       "14                    albumin_2      3.289912    2.684051e+01    3.289912\n",
       "15                    albumin_3      3.235930    2.543000e+01    3.235930\n",
       "23            Pus Cell_abnormal      3.063399    2.140018e+01    3.063399\n",
       "27          Bacteria_notpresent      2.804066    1.651165e+01    2.804066\n",
       "18                      Sugar_1      2.729556    1.532608e+01    2.729556\n",
       "21                      Sugar_4      2.673030    1.448379e+01    2.673030\n",
       "3                    Blood Urea     -2.663095    1.434061e+01    2.663095\n",
       "6           Packed  Cell Volume     -2.602148    1.349268e+01    2.602148\n",
       "12                    albumin_0     -2.553375    1.285041e+01    2.553375\n",
       "25   Pus Cell clumps_notpresent      2.224359    9.247555e+00    2.224359\n",
       "26      Pus Cell clumps_present      2.167552    8.736867e+00    2.167552\n",
       "28             Bacteria_present      1.587844    4.893190e+00    1.587844\n",
       "31         Diabetes Mellitus_no     -1.531389    4.624596e+00    1.531389\n",
       "24              Pus Cell_normal      1.328512    3.775420e+00    1.328512\n",
       "17                      Sugar_0     -1.016266    2.762858e+00    1.016266\n",
       "0                           age     -0.956601    2.602834e+00    0.956601\n",
       "13                    albumin_1      0.753642    2.124725e+00    0.753642\n",
       "29              Hypertension_no     -0.688404    1.990537e+00    0.688404\n",
       "16                    albumin_4     -0.334198    1.396820e+00    0.334198\n",
       "20                      Sugar_3      0.281386    1.324964e+00    0.281386\n",
       "19                      Sugar_2     -0.270290    1.310344e+00    0.270290\n",
       "38              Pedal Edema_yes      0.158599    1.171868e+00    0.158599\n",
       "34  Coronary Artery Disease_yes      0.135491    1.145098e+00    0.135491\n",
       "40                   Anemia_yes      0.132616    1.141811e+00    0.132616\n",
       "7        specific gravity_1.005      0.059047    1.060825e+00    0.059047\n",
       "22                      Sugar_5     -0.005505    1.005520e+00    0.005505"
      ]
     },
     "execution_count": 35,
     "metadata": {},
     "output_type": "execute_result"
    }
   ],
   "source": [
    "feature_import"
   ]
  },
  {
   "cell_type": "markdown",
   "metadata": {},
   "source": [
    "## Conclusion\n",
    "In conclusion, the analysis of various models for data-driven chronic kidney disease diagnosis has yielded promising results. However, it's important to note that further research and development are needed to enhance the efficacy and applicability of these models in real-world healthcare scenarios. This project highlights the immense potential of data-driven solutions in improving healthcare outcomes and paving the way for more accurate and efficient diagnoses."
   ]
  }
 ],
 "metadata": {
  "kernelspec": {
   "display_name": "base",
   "language": "python",
   "name": "python3"
  },
  "language_info": {
   "codemirror_mode": {
    "name": "ipython",
    "version": 3
   },
   "file_extension": ".py",
   "mimetype": "text/x-python",
   "name": "python",
   "nbconvert_exporter": "python",
   "pygments_lexer": "ipython3",
   "version": "3.10.9"
  }
 },
 "nbformat": 4,
 "nbformat_minor": 2
}
